{
 "cells": [
  {
   "cell_type": "markdown",
   "source": [
    "# Cooking Assistant\n",
    "\n",
    "## openai\n",
    "The library that will make it easier for us to connect directly to the openAI API.\n",
    "\n",
    "## os and dotenv\n",
    "The libraries that allow me to upload this directly to github without exposing my API credentials."
   ],
   "metadata": {
    "collapsed": false,
    "pycharm": {
     "name": "#%% md\n"
    }
   }
  },
  {
   "cell_type": "code",
   "execution_count": 1,
   "outputs": [],
   "source": [
    "import csv\n",
    "import os\n",
    "import openai\n",
    "from dotenv import load_dotenv"
   ],
   "metadata": {
    "collapsed": false,
    "pycharm": {
     "name": "#%%\n"
    }
   }
  },
  {
   "cell_type": "code",
   "execution_count": 2,
   "outputs": [
    {
     "data": {
      "text/plain": "True"
     },
     "execution_count": 2,
     "metadata": {},
     "output_type": "execute_result"
    }
   ],
   "source": [
    "load_dotenv()"
   ],
   "metadata": {
    "collapsed": false,
    "pycharm": {
     "name": "#%%\n"
    }
   }
  },
  {
   "cell_type": "markdown",
   "source": [
    "## Connecting to the openAI API"
   ],
   "metadata": {
    "collapsed": false,
    "pycharm": {
     "name": "#%% md\n"
    }
   }
  },
  {
   "cell_type": "code",
   "execution_count": 3,
   "outputs": [],
   "source": [
    "openai.api_key = os.getenv(\"OPEN_API_KEY\")"
   ],
   "metadata": {
    "collapsed": false,
    "pycharm": {
     "name": "#%%\n"
    }
   }
  },
  {
   "cell_type": "markdown",
   "source": [
    "## generate_recipe\n",
    "This function formats the prompt that is sent to GPT3 (text-davinci-003). It takes variables that will eventually be available inputs on a webpage."
   ],
   "metadata": {
    "collapsed": false,
    "pycharm": {
     "name": "#%% md\n"
    }
   }
  },
  {
   "cell_type": "code",
   "execution_count": 4,
   "outputs": [],
   "source": [
    "def generate_recipe(cooking_skill, place_city, preparation_time, time_of_day):\n",
    "    prompt = f\"Please provide a detailed {time_of_day} cooking recipe with ingredients and step-by-step directions, suitable for someone with {cooking_skill}, originating from {place_city}, and taking {preparation_time} time to prepare and cook. Please also keep it under 10 ingredients. \\nPlease provide this in JSON format with the following variables:\\nname, description, ingredients, directions. Do not return 'difficulty, origin, time'\"\n",
    "\n",
    "    response = openai.Completion.create(\n",
    "        engine='text-davinci-003',\n",
    "        prompt=prompt,\n",
    "        max_tokens=1000,\n",
    "        n=1,\n",
    "        temperature=0,\n",
    "        top_p=0.5,\n",
    "        frequency_penalty=0,\n",
    "        presence_penalty=0\n",
    "    )\n",
    "    # return response.choices[0].text.strip()\n",
    "    return response"
   ],
   "metadata": {
    "collapsed": false,
    "pycharm": {
     "name": "#%%\n"
    }
   }
  },
  {
   "cell_type": "code",
   "execution_count": 5,
   "outputs": [],
   "source": [
    "cooking_skill = \"Advanced\"\n",
    "place_city = \"Detroit\"\n",
    "preparation_time = \"Short\"\n",
    "time_of_day = \"Lunch\""
   ],
   "metadata": {
    "collapsed": false,
    "pycharm": {
     "name": "#%%\n"
    }
   }
  },
  {
   "cell_type": "markdown",
   "source": [
    "## recipe_json\n",
    "Here we will be executing the function by passing our 3 variables into the prompt, which is then sent to openAPI"
   ],
   "metadata": {
    "collapsed": false,
    "pycharm": {
     "name": "#%% md\n"
    }
   }
  },
  {
   "cell_type": "code",
   "execution_count": 6,
   "outputs": [],
   "source": [
    "recipe = generate_recipe(cooking_skill, place_city, preparation_time, time_of_day)"
   ],
   "metadata": {
    "collapsed": false,
    "pycharm": {
     "name": "#%%\n"
    }
   }
  },
  {
   "cell_type": "markdown",
   "source": [
    "## JSON Structure\n",
    "This JSON response will be used to fill in our webpage in an digestible format."
   ],
   "metadata": {
    "collapsed": false,
    "pycharm": {
     "name": "#%% md\n"
    }
   }
  },
  {
   "cell_type": "code",
   "execution_count": 7,
   "outputs": [
    {
     "name": "stdout",
     "output_type": "stream",
     "text": [
      "{\n",
      "  \"choices\": [\n",
      "    {\n",
      "      \"finish_reason\": \"stop\",\n",
      "      \"index\": 0,\n",
      "      \"logprobs\": null,\n",
      "      \"text\": \"\\n\\n{\\n    \\\"name\\\": \\\"Detroit-Style Coney Dogs\\\",\\n    \\\"description\\\": \\\"A classic Detroit-style lunch that can be prepared and cooked in a short amount of time.\\\",\\n    \\\"ingredients\\\": [\\n        \\\"1 lb. ground beef\\\",\\n        \\\"1/2 cup diced onion\\\",\\n        \\\"1/2 cup diced green bell pepper\\\",\\n        \\\"1/4 cup ketchup\\\",\\n        \\\"1/4 cup yellow mustard\\\",\\n        \\\"1/4 cup chili sauce\\\",\\n        \\\"1/4 cup Worcestershire sauce\\\",\\n        \\\"1/2 teaspoon garlic powder\\\",\\n        \\\"1/2 teaspoon onion powder\\\",\\n        \\\"8 hot dog buns\\\"\\n    ],\\n    \\\"directions\\\": [\\n        \\\"In a large skillet over medium-high heat, cook the ground beef, onion, and bell pepper until the beef is browned and the vegetables are tender, about 8 minutes.\\\",\\n        \\\"Add the ketchup, mustard, chili sauce, Worcestershire sauce, garlic powder, and onion powder. Stir to combine and cook for an additional 2 minutes.\\\",\\n        \\\"Divide the beef mixture among the hot dog buns and serve.\\\"\\n    ]\\n}\"\n",
      "    }\n",
      "  ],\n",
      "  \"created\": 1681355774,\n",
      "  \"id\": \"cmpl-74hjS3N7BloAaDohxLFKTJLRc7HNo\",\n",
      "  \"model\": \"text-davinci-003\",\n",
      "  \"object\": \"text_completion\",\n",
      "  \"usage\": {\n",
      "    \"completion_tokens\": 259,\n",
      "    \"prompt_tokens\": 77,\n",
      "    \"total_tokens\": 336\n",
      "  }\n",
      "}\n"
     ]
    }
   ],
   "source": [
    "print(recipe)"
   ],
   "metadata": {
    "collapsed": false,
    "pycharm": {
     "name": "#%%\n"
    }
   }
  },
  {
   "cell_type": "code",
   "execution_count": 8,
   "outputs": [],
   "source": [
    "strip_recipe = recipe.choices[0].text.strip()"
   ],
   "metadata": {
    "collapsed": false,
    "pycharm": {
     "name": "#%%\n"
    }
   }
  },
  {
   "cell_type": "code",
   "execution_count": 9,
   "outputs": [],
   "source": [
    "import json"
   ],
   "metadata": {
    "collapsed": false,
    "pycharm": {
     "name": "#%%\n"
    }
   }
  },
  {
   "cell_type": "code",
   "execution_count": 10,
   "outputs": [],
   "source": [
    "recipe_json = json.loads(strip_recipe)"
   ],
   "metadata": {
    "collapsed": false,
    "pycharm": {
     "name": "#%%\n"
    }
   }
  },
  {
   "cell_type": "code",
   "execution_count": 11,
   "outputs": [],
   "source": [
    "# filename = 'pastresponse.csv'"
   ],
   "metadata": {
    "collapsed": false,
    "pycharm": {
     "name": "#%%\n"
    }
   }
  },
  {
   "cell_type": "code",
   "execution_count": 12,
   "outputs": [],
   "source": [
    "# with open(filename, 'a', newline='') as past_responses:\n",
    "#     fieldnames = ['name', 'description', 'ingredients', 'directions']\n",
    "#     writer = csv.DictWriter(past_responses, fieldnames=fieldnames)\n",
    "#     writer.writerow({\n",
    "#         'name': recipe_json['name'],\n",
    "#         'description': recipe_json['description'],\n",
    "#         'ingredients': \", \".join(recipe_json['ingredients']),\n",
    "#         'directions': \", \".join(recipe_json['directions'])\n",
    "#     })"
   ],
   "metadata": {
    "collapsed": false,
    "pycharm": {
     "name": "#%%\n"
    }
   }
  },
  {
   "cell_type": "code",
   "execution_count": 13,
   "outputs": [],
   "source": [
    "from supabase import create_client, Client\n",
    "\n",
    "url = os.getenv(\"SUPABASE_URL\")\n",
    "supakey = os.getenv(\"SUPABASE_API_KEY\")\n",
    "supabase = create_client(url, supakey)"
   ],
   "metadata": {
    "collapsed": false,
    "pycharm": {
     "name": "#%%\n"
    }
   }
  },
  {
   "cell_type": "code",
   "execution_count": 24,
   "outputs": [],
   "source": [
    "suparesponse = supabase.table('main').select(\"name\").execute()"
   ],
   "metadata": {
    "collapsed": false,
    "pycharm": {
     "name": "#%%\n"
    }
   }
  },
  {
   "cell_type": "code",
   "execution_count": 25,
   "outputs": [
    {
     "data": {
      "text/plain": "APIResponse(data=[{'name': 'Waco-Style BBQ Chicken Sandwich'}, {'name': 'Czech Potato Salad'}, {'name': 'Czech Potato Salad'}, {'name': 'Miami-Style Grilled Fish Tacos'}, {'name': 'Quebec-Style French Toast'}, {'name': 'Detroit-Style Coney Dogs'}], count=None)"
     },
     "execution_count": 25,
     "metadata": {},
     "output_type": "execute_result"
    }
   ],
   "source": [
    "suparesponse"
   ],
   "metadata": {
    "collapsed": false,
    "pycharm": {
     "name": "#%%\n"
    }
   }
  },
  {
   "cell_type": "code",
   "execution_count": 16,
   "outputs": [],
   "source": [
    "data = supabase.auth.sign_in_with_password({\"email\": os.getenv(\"SUPABASE_EMAIL\"), \"password\": os.getenv(\"SUPABASE_LOGIN\")})"
   ],
   "metadata": {
    "collapsed": false,
    "pycharm": {
     "name": "#%%\n"
    }
   }
  },
  {
   "cell_type": "code",
   "execution_count": 17,
   "outputs": [],
   "source": [
    "table = supabase.table('main')"
   ],
   "metadata": {
    "collapsed": false,
    "pycharm": {
     "name": "#%%\n"
    }
   }
  },
  {
   "cell_type": "code",
   "execution_count": 18,
   "outputs": [],
   "source": [
    "insert_query = table.insert({\n",
    "    'name': recipe_json['name'],\n",
    "    'description': recipe_json['description'],\n",
    "    'ingredients': \", \".join(recipe_json['ingredients']),\n",
    "    'directions': \", \".join(recipe_json['directions']),\n",
    "    'cooking_skill': cooking_skill,\n",
    "    'place_city': place_city,\n",
    "    'preparation_time': preparation_time,\n",
    "    'time_of_day': time_of_day\n",
    "})"
   ],
   "metadata": {
    "collapsed": false,
    "pycharm": {
     "name": "#%%\n"
    }
   }
  },
  {
   "cell_type": "code",
   "execution_count": 19,
   "outputs": [],
   "source": [
    "result = insert_query.execute()"
   ],
   "metadata": {
    "collapsed": false,
    "pycharm": {
     "name": "#%%\n"
    }
   }
  },
  {
   "cell_type": "code",
   "execution_count": 20,
   "outputs": [
    {
     "data": {
      "text/plain": "336"
     },
     "execution_count": 20,
     "metadata": {},
     "output_type": "execute_result"
    }
   ],
   "source": [
    "recipe.usage['total_tokens']"
   ],
   "metadata": {
    "collapsed": false,
    "pycharm": {
     "name": "#%%\n"
    }
   }
  }
 ],
 "metadata": {
  "kernelspec": {
   "display_name": "Python 3",
   "language": "python",
   "name": "python3"
  },
  "language_info": {
   "codemirror_mode": {
    "name": "ipython",
    "version": 2
   },
   "file_extension": ".py",
   "mimetype": "text/x-python",
   "name": "python",
   "nbconvert_exporter": "python",
   "pygments_lexer": "ipython2",
   "version": "2.7.6"
  }
 },
 "nbformat": 4,
 "nbformat_minor": 0
}