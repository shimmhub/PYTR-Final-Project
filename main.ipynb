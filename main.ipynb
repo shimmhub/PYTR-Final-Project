{
 "cells": [
  {
   "cell_type": "markdown",
   "source": [
    "# Cooking Assistant\n",
    "\n",
    "## openai\n",
    "The library that will make it easier for us to connect directly to the openAI API.\n",
    "\n",
    "## os and dotenv\n",
    "The libraries that allow me to upload this directly to github without exposing my API credentials."
   ],
   "metadata": {
    "collapsed": false,
    "pycharm": {
     "name": "#%% md\n"
    }
   }
  },
  {
   "cell_type": "code",
   "execution_count": 25,
   "outputs": [],
   "source": [
    "import csv\n",
    "import os\n",
    "import openai\n",
    "from dotenv import load_dotenv"
   ],
   "metadata": {
    "collapsed": false,
    "pycharm": {
     "name": "#%%\n"
    }
   }
  },
  {
   "cell_type": "code",
   "execution_count": 26,
   "outputs": [
    {
     "data": {
      "text/plain": "True"
     },
     "execution_count": 26,
     "metadata": {},
     "output_type": "execute_result"
    }
   ],
   "source": [
    "load_dotenv()"
   ],
   "metadata": {
    "collapsed": false,
    "pycharm": {
     "name": "#%%\n"
    }
   }
  },
  {
   "cell_type": "markdown",
   "source": [
    "## Connecting to the openAI API"
   ],
   "metadata": {
    "collapsed": false,
    "pycharm": {
     "name": "#%% md\n"
    }
   }
  },
  {
   "cell_type": "code",
   "execution_count": 27,
   "outputs": [],
   "source": [
    "openai.api_key = os.getenv(\"OPEN_API_KEY\")"
   ],
   "metadata": {
    "collapsed": false,
    "pycharm": {
     "name": "#%%\n"
    }
   }
  },
  {
   "cell_type": "markdown",
   "source": [
    "## generate_recipe\n",
    "This function formats the prompt that is sent to GPT3 (text-davinci-003). It takes variables that will eventually be available inputs on a webpage."
   ],
   "metadata": {
    "collapsed": false,
    "pycharm": {
     "name": "#%% md\n"
    }
   }
  },
  {
   "cell_type": "code",
   "execution_count": 38,
   "outputs": [],
   "source": [
    "def generate_recipe(cooking_skill, place_city, preparation_time, time_of_day):\n",
    "    prompt = f\"Please provide a detailed {time_of_day} cooking recipe with ingredients and step-by-step directions, suitable for someone with {cooking_skill}, originating from {place_city}, and taking {preparation_time} time to prepare and cook. Please also keep it under 10 ingredients. \\nPlease provide this in JSON format with the following variables:\\nname, description, ingredients, directions. Do not return 'difficulty, origin, time'\"\n",
    "\n",
    "    response = openai.Completion.create(\n",
    "        engine='text-davinci-003',\n",
    "        prompt=prompt,\n",
    "        max_tokens=1000,\n",
    "        n=1,\n",
    "        temperature=0,\n",
    "        top_p=0.5,\n",
    "        frequency_penalty=0,\n",
    "        presence_penalty=0\n",
    "    )\n",
    "    # return response.choices[0].text.strip()\n",
    "    return response"
   ],
   "metadata": {
    "collapsed": false,
    "pycharm": {
     "name": "#%%\n"
    }
   }
  },
  {
   "cell_type": "code",
   "execution_count": 39,
   "outputs": [],
   "source": [
    "cooking_skill = \"Beginner\"\n",
    "place_city = \"Quebec\"\n",
    "preparation_time = \"Short\"\n",
    "time_of_day = \"Breakfast\""
   ],
   "metadata": {
    "collapsed": false,
    "pycharm": {
     "name": "#%%\n"
    }
   }
  },
  {
   "cell_type": "markdown",
   "source": [
    "## recipe_json\n",
    "Here we will be executing the function by passing our 3 variables into the prompt, which is then sent to openAPI"
   ],
   "metadata": {
    "collapsed": false,
    "pycharm": {
     "name": "#%% md\n"
    }
   }
  },
  {
   "cell_type": "code",
   "execution_count": 40,
   "outputs": [],
   "source": [
    "recipe = generate_recipe(cooking_skill, place_city, preparation_time, time_of_day)"
   ],
   "metadata": {
    "collapsed": false,
    "pycharm": {
     "name": "#%%\n"
    }
   }
  },
  {
   "cell_type": "markdown",
   "source": [
    "## JSON Structure\n",
    "This JSON response will be used to fill in our webpage in an digestible format."
   ],
   "metadata": {
    "collapsed": false,
    "pycharm": {
     "name": "#%% md\n"
    }
   }
  },
  {
   "cell_type": "code",
   "execution_count": 41,
   "outputs": [
    {
     "name": "stdout",
     "output_type": "stream",
     "text": [
      "{\n",
      "  \"choices\": [\n",
      "    {\n",
      "      \"finish_reason\": \"stop\",\n",
      "      \"index\": 0,\n",
      "      \"logprobs\": null,\n",
      "      \"text\": \"\\n\\n{\\n    \\\"name\\\": \\\"Quebec-Style French Toast\\\",\\n    \\\"description\\\": \\\"This classic French toast recipe is a delicious and easy way to start your day. It's perfect for a beginner cook and takes only a few minutes to prepare and cook.\\\",\\n    \\\"ingredients\\\": [\\n        \\\"2 large eggs\\\",\\n        \\\"1/4 cup of milk\\\",\\n        \\\"1 teaspoon of sugar\\\",\\n        \\\"1/4 teaspoon of ground cinnamon\\\",\\n        \\\"4 slices of white bread\\\",\\n        \\\"2 tablespoons of butter\\\",\\n        \\\"1/4 cup of maple syrup\\\",\\n        \\\"1/4 cup of fresh berries (optional)\\\"\\n    ],\\n    \\\"directions\\\": [\\n        \\\"In a shallow bowl, whisk together the eggs, milk, sugar, and cinnamon until combined.\\\",\\n        \\\"Dip each slice of bread into the egg mixture, making sure to coat both sides.\\\",\\n        \\\"Melt the butter in a large skillet over medium heat.\\\",\\n        \\\"Add the bread slices to the skillet and cook for 2-3 minutes on each side, or until golden brown.\\\",\\n        \\\"Serve the French toast with maple syrup and fresh berries (optional).\\\"\\n    ]\\n}\"\n",
      "    }\n",
      "  ],\n",
      "  \"created\": 1681354681,\n",
      "  \"id\": \"cmpl-74hRpwYM9FWsNYeSwg74JCZnxGhu6\",\n",
      "  \"model\": \"text-davinci-003\",\n",
      "  \"object\": \"text_completion\",\n",
      "  \"usage\": {\n",
      "    \"completion_tokens\": 256,\n",
      "    \"prompt_tokens\": 78,\n",
      "    \"total_tokens\": 334\n",
      "  }\n",
      "}\n"
     ]
    }
   ],
   "source": [
    "print(recipe)"
   ],
   "metadata": {
    "collapsed": false,
    "pycharm": {
     "name": "#%%\n"
    }
   }
  },
  {
   "cell_type": "code",
   "execution_count": 42,
   "outputs": [],
   "source": [
    "strip_recipe = recipe.choices[0].text.strip()"
   ],
   "metadata": {
    "collapsed": false,
    "pycharm": {
     "name": "#%%\n"
    }
   }
  },
  {
   "cell_type": "code",
   "execution_count": 43,
   "outputs": [],
   "source": [
    "import json"
   ],
   "metadata": {
    "collapsed": false,
    "pycharm": {
     "name": "#%%\n"
    }
   }
  },
  {
   "cell_type": "code",
   "execution_count": 44,
   "outputs": [],
   "source": [
    "recipe_json = json.loads(strip_recipe)"
   ],
   "metadata": {
    "collapsed": false,
    "pycharm": {
     "name": "#%%\n"
    }
   }
  },
  {
   "cell_type": "code",
   "execution_count": 45,
   "outputs": [],
   "source": [
    "# filename = 'pastresponse.csv'"
   ],
   "metadata": {
    "collapsed": false,
    "pycharm": {
     "name": "#%%\n"
    }
   }
  },
  {
   "cell_type": "code",
   "execution_count": 46,
   "outputs": [],
   "source": [
    "# with open(filename, 'a', newline='') as past_responses:\n",
    "#     fieldnames = ['name', 'description', 'ingredients', 'directions']\n",
    "#     writer = csv.DictWriter(past_responses, fieldnames=fieldnames)\n",
    "#     writer.writerow({\n",
    "#         'name': recipe_json['name'],\n",
    "#         'description': recipe_json['description'],\n",
    "#         'ingredients': \", \".join(recipe_json['ingredients']),\n",
    "#         'directions': \", \".join(recipe_json['directions'])\n",
    "#     })"
   ],
   "metadata": {
    "collapsed": false,
    "pycharm": {
     "name": "#%%\n"
    }
   }
  },
  {
   "cell_type": "code",
   "execution_count": 47,
   "outputs": [],
   "source": [
    "from supabase import create_client, Client\n",
    "\n",
    "url = os.getenv(\"SUPABASE_URL\")\n",
    "supakey = os.getenv(\"SUPABASE_API_KEY\")\n",
    "supabase = create_client(url, supakey)"
   ],
   "metadata": {
    "collapsed": false,
    "pycharm": {
     "name": "#%%\n"
    }
   }
  },
  {
   "cell_type": "code",
   "execution_count": 48,
   "outputs": [],
   "source": [
    "suparesponse = supabase.table('main').select(\"*\").execute()"
   ],
   "metadata": {
    "collapsed": false,
    "pycharm": {
     "name": "#%%\n"
    }
   }
  },
  {
   "cell_type": "code",
   "execution_count": 49,
   "outputs": [
    {
     "data": {
      "text/plain": "APIResponse(data=[{'id': 12, 'created_at': '2023-04-13T01:47:11.384697+00:00', 'name': 'Waco-Style BBQ Chicken Sandwich', 'description': 'A delicious and easy-to-make BBQ chicken sandwich that is sure to please!', 'ingredients': '2 boneless, skinless chicken breasts, 1/4 cup BBQ sauce, 2 tablespoons olive oil, 1/2 teaspoon garlic powder, 1/2 teaspoon onion powder, 1/2 teaspoon smoked paprika, 1/4 teaspoon black pepper, 2 hamburger buns, 1/4 cup shredded cheddar cheese, 1/4 cup sliced red onion', 'directions': 'Preheat oven to 375 degrees F., In a small bowl, mix together BBQ sauce, olive oil, garlic powder, onion powder, smoked paprika, and black pepper., Place chicken breasts in a baking dish and pour BBQ sauce mixture over them. Make sure chicken is evenly coated., Bake chicken for 25-30 minutes, or until cooked through., Remove chicken from oven and let cool for 5 minutes., Meanwhile, toast hamburger buns in a toaster or in a skillet over medium heat., Once chicken is cool enough to handle, shred it with two forks., Assemble sandwiches by layering chicken, cheddar cheese, and red onion on the buns., Serve and enjoy!', 'cooking_skill': 'Easy', 'place_city': 'Waco', 'preparation_time': 'Short', 'time_of_day': 'Lunch'}, {'id': 13, 'created_at': '2023-04-13T01:54:07.584176+00:00', 'name': 'Czech Potato Salad', 'description': 'This Czech Potato Salad is a classic dish from Prague that is easy to make and takes a short time to prepare and cook.', 'ingredients': '4 large potatoes, 1/2 cup mayonnaise, 1/4 cup sour cream, 1/4 cup chopped onion, 2 tablespoons chopped dill pickles, 2 tablespoons chopped fresh parsley, 1 teaspoon Dijon mustard, 1/2 teaspoon salt, 1/4 teaspoon pepper, 2 hard-boiled eggs, chopped', 'directions': '1. Peel and cube the potatoes. Place in a large pot and cover with cold water. Bring to a boil over high heat and cook for 10 minutes or until potatoes are tender., 2. Drain the potatoes and transfer to a large bowl. Allow to cool for 10 minutes., 3. In a small bowl, mix together the mayonnaise, sour cream, onion, dill pickles, parsley, mustard, salt, and pepper., 4. Pour the dressing over the potatoes and mix until evenly coated. Gently fold in the chopped eggs., 5. Serve chilled or at room temperature.', 'cooking_skill': 'Easy', 'place_city': 'Prague', 'preparation_time': 'Short', 'time_of_day': 'Lunch'}, {'id': 14, 'created_at': '2023-04-13T02:48:21.905921+00:00', 'name': 'Czech Potato Salad', 'description': 'This Czech Potato Salad is a classic dish from Prague that is easy to make and takes a short time to prepare and cook.', 'ingredients': '4 large potatoes, 1/2 cup mayonnaise, 1/4 cup sour cream, 1/4 cup chopped onion, 2 tablespoons chopped dill pickles, 2 tablespoons chopped fresh parsley, 1 teaspoon Dijon mustard, 1/2 teaspoon salt, 1/4 teaspoon pepper, 2 hard-boiled eggs, chopped', 'directions': '1. Peel and cube the potatoes. Place in a large pot and cover with cold water. Bring to a boil over high heat and cook for 10 minutes or until potatoes are tender., 2. Drain the potatoes and transfer to a large bowl. Allow to cool for 10 minutes., 3. In a small bowl, mix together the mayonnaise, sour cream, onion, dill pickles, parsley, mustard, salt, and pepper., 4. Pour the dressing over the potatoes and mix until evenly coated. Gently fold in the chopped eggs., 5. Serve chilled or at room temperature.', 'cooking_skill': 'Easy', 'place_city': 'Prague', 'preparation_time': 'Short', 'time_of_day': 'Lunch'}, {'id': 15, 'created_at': '2023-04-13T02:50:35.701454+00:00', 'name': 'Miami-Style Grilled Fish Tacos', 'description': 'A delicious and easy-to-make dinner that takes only 30 minutes to prepare and cook. Perfect for a busy weeknight meal!', 'ingredients': '1 lb. white fish fillets (such as tilapia or cod), 1/4 cup olive oil, 1/4 cup lime juice, 1 teaspoon chili powder, 1 teaspoon garlic powder, 1 teaspoon cumin, 1/2 teaspoon salt, 1/4 teaspoon black pepper, 8 small flour tortillas, 1/2 cup shredded cabbage', 'directions': '1. Preheat the grill to medium-high heat., 2. In a small bowl, whisk together the olive oil, lime juice, chili powder, garlic powder, cumin, salt, and pepper., 3. Place the fish fillets in a shallow dish and pour the marinade over them. Let the fish marinate for 10 minutes., 4. Place the fish on the preheated grill and cook for 5-7 minutes per side, or until the fish is cooked through., 5. Meanwhile, warm the tortillas in a dry skillet over medium heat for 1-2 minutes per side., 6. To assemble the tacos, place a piece of fish in each tortilla and top with shredded cabbage., 7. Serve with your favorite toppings and enjoy!', 'cooking_skill': 'Advanced', 'place_city': 'Miami', 'preparation_time': 'Short', 'time_of_day': 'Dinner'}], count=None)"
     },
     "execution_count": 49,
     "metadata": {},
     "output_type": "execute_result"
    }
   ],
   "source": [
    "suparesponse"
   ],
   "metadata": {
    "collapsed": false,
    "pycharm": {
     "name": "#%%\n"
    }
   }
  },
  {
   "cell_type": "code",
   "execution_count": 50,
   "outputs": [],
   "source": [
    "data = supabase.auth.sign_in_with_password({\"email\": os.getenv(\"SUPABASE_EMAIL\"), \"password\": os.getenv(\"SUPABASE_LOGIN\")})"
   ],
   "metadata": {
    "collapsed": false,
    "pycharm": {
     "name": "#%%\n"
    }
   }
  },
  {
   "cell_type": "code",
   "execution_count": 51,
   "outputs": [],
   "source": [
    "table = supabase.table('main')"
   ],
   "metadata": {
    "collapsed": false,
    "pycharm": {
     "name": "#%%\n"
    }
   }
  },
  {
   "cell_type": "code",
   "execution_count": 52,
   "outputs": [],
   "source": [
    "insert_query = table.insert({\n",
    "    'name': recipe_json['name'],\n",
    "    'description': recipe_json['description'],\n",
    "    'ingredients': \", \".join(recipe_json['ingredients']),\n",
    "    'directions': \", \".join(recipe_json['directions']),\n",
    "    'cooking_skill': cooking_skill,\n",
    "    'place_city': place_city,\n",
    "    'preparation_time': preparation_time,\n",
    "    'time_of_day': time_of_day\n",
    "})"
   ],
   "metadata": {
    "collapsed": false,
    "pycharm": {
     "name": "#%%\n"
    }
   }
  },
  {
   "cell_type": "code",
   "execution_count": 53,
   "outputs": [],
   "source": [
    "result = insert_query.execute()"
   ],
   "metadata": {
    "collapsed": false,
    "pycharm": {
     "name": "#%%\n"
    }
   }
  },
  {
   "cell_type": "code",
   "execution_count": 54,
   "outputs": [
    {
     "data": {
      "text/plain": "334"
     },
     "execution_count": 54,
     "metadata": {},
     "output_type": "execute_result"
    }
   ],
   "source": [
    "recipe.usage['total_tokens']"
   ],
   "metadata": {
    "collapsed": false,
    "pycharm": {
     "name": "#%%\n"
    }
   }
  },
  {
   "cell_type": "code",
   "execution_count": 56,
   "outputs": [
    {
     "name": "stdout",
     "output_type": "stream",
     "text": [
      "shimmspace@gmail.com\n"
     ]
    }
   ],
   "source": [
    "print(os.getenv(\"SUPABASE_EMAIL\"))"
   ],
   "metadata": {
    "collapsed": false,
    "pycharm": {
     "name": "#%%\n"
    }
   }
  },
  {
   "cell_type": "code",
   "execution_count": null,
   "outputs": [],
   "source": [],
   "metadata": {
    "collapsed": false,
    "pycharm": {
     "name": "#%%\n"
    }
   }
  }
 ],
 "metadata": {
  "kernelspec": {
   "display_name": "Python 3",
   "language": "python",
   "name": "python3"
  },
  "language_info": {
   "codemirror_mode": {
    "name": "ipython",
    "version": 2
   },
   "file_extension": ".py",
   "mimetype": "text/x-python",
   "name": "python",
   "nbconvert_exporter": "python",
   "pygments_lexer": "ipython2",
   "version": "2.7.6"
  }
 },
 "nbformat": 4,
 "nbformat_minor": 0
}