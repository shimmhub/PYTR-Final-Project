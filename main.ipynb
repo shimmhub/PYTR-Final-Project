{
 "cells": [
  {
   "cell_type": "markdown",
   "source": [
    "# Cooking Assistant\n",
    "\n",
    "## openai\n",
    "The library that will make it easier for us to connect directly to the openAI API.\n",
    "\n",
    "## os and dotenv\n",
    "The libraries that allow me to upload this directly to github without exposing my API credentials."
   ],
   "metadata": {
    "collapsed": false,
    "pycharm": {
     "name": "#%% md\n"
    }
   }
  },
  {
   "cell_type": "code",
   "execution_count": 21,
   "outputs": [],
   "source": [
    "import csv\n",
    "import os\n",
    "import openai\n",
    "from dotenv import load_dotenv"
   ],
   "metadata": {
    "collapsed": false,
    "pycharm": {
     "name": "#%%\n"
    }
   }
  },
  {
   "cell_type": "code",
   "execution_count": 22,
   "outputs": [
    {
     "data": {
      "text/plain": "True"
     },
     "execution_count": 22,
     "metadata": {},
     "output_type": "execute_result"
    }
   ],
   "source": [
    "load_dotenv()"
   ],
   "metadata": {
    "collapsed": false,
    "pycharm": {
     "name": "#%%\n"
    }
   }
  },
  {
   "cell_type": "markdown",
   "source": [
    "## Connecting to the openAI API"
   ],
   "metadata": {
    "collapsed": false,
    "pycharm": {
     "name": "#%% md\n"
    }
   }
  },
  {
   "cell_type": "code",
   "execution_count": 12,
   "outputs": [],
   "source": [
    "openai.api_key = os.getenv(\"OPEN_API_KEY\")"
   ],
   "metadata": {
    "collapsed": false,
    "pycharm": {
     "name": "#%%\n"
    }
   }
  },
  {
   "cell_type": "markdown",
   "source": [
    "## generate_recipe\n",
    "This function formats the prompt that is sent to GPT3 (text-davinci-003). It takes variables that will eventually be available inputs on a webpage."
   ],
   "metadata": {
    "collapsed": false,
    "pycharm": {
     "name": "#%% md\n"
    }
   }
  },
  {
   "cell_type": "code",
   "execution_count": 35,
   "outputs": [],
   "source": [
    "def generate_recipe(cooking_skill, place_city, preparation_time, time_of_day):\n",
    "    prompt = f\"Please provide a detailed {time_of_day} cooking recipe with ingredients and step-by-step directions, suitable for someone with {cooking_skill}, originating from {place_city}, and taking {preparation_time} time to prepare and cook. Please also keep it under 10 ingredients. \\nPlease provide this in JSON format with the following variables:\\nname, description, ingredients, directions\"\n",
    "\n",
    "    response = openai.Completion.create(\n",
    "        engine='text-davinci-003',\n",
    "        prompt=prompt,\n",
    "        max_tokens=1000,\n",
    "        n=1,\n",
    "        temperature=0,\n",
    "        top_p=0.5,\n",
    "        frequency_penalty=0,\n",
    "        presence_penalty=0\n",
    "    )\n",
    "    # return response.choices[0].text.strip()\n",
    "    return response"
   ],
   "metadata": {
    "collapsed": false,
    "pycharm": {
     "name": "#%%\n"
    }
   }
  },
  {
   "cell_type": "code",
   "execution_count": 75,
   "outputs": [],
   "source": [
    "cooking_skill = \"Easy\"\n",
    "place_city = \"Chicago\"\n",
    "preparation_time = \"Short\"\n",
    "time_of_day = \"Lunch\""
   ],
   "metadata": {
    "collapsed": false,
    "pycharm": {
     "name": "#%%\n"
    }
   }
  },
  {
   "cell_type": "markdown",
   "source": [
    "## recipe_json\n",
    "Here we will be executing the function by passing our 3 variables into the prompt, which is then sent to openAPI"
   ],
   "metadata": {
    "collapsed": false,
    "pycharm": {
     "name": "#%% md\n"
    }
   }
  },
  {
   "cell_type": "code",
   "execution_count": 76,
   "outputs": [],
   "source": [
    "recipe = generate_recipe(cooking_skill, place_city, preparation_time, time_of_day)"
   ],
   "metadata": {
    "collapsed": false,
    "pycharm": {
     "name": "#%%\n"
    }
   }
  },
  {
   "cell_type": "markdown",
   "source": [
    "## JSON Structure\n",
    "This JSON response will be used to fill in our webpage in an digestible format."
   ],
   "metadata": {
    "collapsed": false,
    "pycharm": {
     "name": "#%% md\n"
    }
   }
  },
  {
   "cell_type": "code",
   "execution_count": 77,
   "outputs": [
    {
     "name": "stdout",
     "output_type": "stream",
     "text": [
      "{\n",
      "  \"choices\": [\n",
      "    {\n",
      "      \"finish_reason\": \"stop\",\n",
      "      \"index\": 0,\n",
      "      \"logprobs\": null,\n",
      "      \"text\": \"\\n\\n{\\n    \\\"name\\\": \\\"Chicago-Style Italian Beef Sandwich\\\",\\n    \\\"description\\\": \\\"This classic Chicago-style Italian beef sandwich is easy to make and takes only a short time to prepare and cook. It's a great lunch option for anyone looking for a quick and delicious meal.\\\",\\n    \\\"ingredients\\\": [\\n        \\\"1 lb. beef roast\\\",\\n        \\\"1/2 cup beef broth\\\",\\n        \\\"1/4 cup Italian dressing\\\",\\n        \\\"1/4 cup giardiniera (pickled vegetables)\\\",\\n        \\\"1/4 cup pepperoncini peppers\\\",\\n        \\\"1/2 teaspoon garlic powder\\\",\\n        \\\"1/2 teaspoon onion powder\\\",\\n        \\\"1/2 teaspoon Italian seasoning\\\",\\n        \\\"4 Italian rolls\\\",\\n        \\\"Provolone cheese (optional)\\\"\\n    ],\\n    \\\"directions\\\": [\\n        \\\"1. Preheat oven to 350\\u00b0F.\\\",\\n        \\\"2. Place beef roast in a baking dish and pour beef broth over it.\\\",\\n        \\\"3. In a small bowl, mix together Italian dressing, giardiniera, pepperoncini peppers, garlic powder, onion powder, and Italian seasoning. Pour over the beef roast.\\\",\\n        \\\"4. Cover the baking dish with foil and bake for 2 hours.\\\",\\n        \\\"5. Remove the beef roast from the oven and shred with two forks.\\\",\\n        \\\"6. Place the shredded beef on the Italian rolls and top with Provolone cheese, if desired.\\\",\\n        \\\"7. Serve and enjoy!\\\"\\n    ]\\n}\"\n",
      "    }\n",
      "  ],\n",
      "  \"created\": 1681338936,\n",
      "  \"id\": \"cmpl-74dLsLpBNI2IqrCdJApODvVtF6Yju\",\n",
      "  \"model\": \"text-davinci-003\",\n",
      "  \"object\": \"text_completion\",\n",
      "  \"usage\": {\n",
      "    \"completion_tokens\": 330,\n",
      "    \"prompt_tokens\": 65,\n",
      "    \"total_tokens\": 395\n",
      "  }\n",
      "}\n"
     ]
    }
   ],
   "source": [
    "print(recipe)"
   ],
   "metadata": {
    "collapsed": false,
    "pycharm": {
     "name": "#%%\n"
    }
   }
  },
  {
   "cell_type": "code",
   "execution_count": 79,
   "outputs": [],
   "source": [
    "strip_recipe = recipe.choices[0].text.strip()"
   ],
   "metadata": {
    "collapsed": false,
    "pycharm": {
     "name": "#%%\n"
    }
   }
  },
  {
   "cell_type": "code",
   "execution_count": 80,
   "outputs": [],
   "source": [
    "import json"
   ],
   "metadata": {
    "collapsed": false,
    "pycharm": {
     "name": "#%%\n"
    }
   }
  },
  {
   "cell_type": "code",
   "execution_count": 81,
   "outputs": [],
   "source": [
    "recipe_json = json.loads(strip_recipe)"
   ],
   "metadata": {
    "collapsed": false,
    "pycharm": {
     "name": "#%%\n"
    }
   }
  },
  {
   "cell_type": "code",
   "execution_count": 82,
   "outputs": [],
   "source": [
    "filename = 'pastresponse.csv'"
   ],
   "metadata": {
    "collapsed": false,
    "pycharm": {
     "name": "#%%\n"
    }
   }
  },
  {
   "cell_type": "code",
   "execution_count": 83,
   "outputs": [],
   "source": [
    "with open(filename, 'a', newline='') as past_responses:\n",
    "    fieldnames = ['name', 'description', 'ingredients', 'directions']\n",
    "    writer = csv.DictWriter(past_responses, fieldnames=fieldnames)\n",
    "    writer.writerow({\n",
    "        'name': recipe_json['name'],\n",
    "        'description': recipe_json['description'],\n",
    "        'ingredients': \", \".join(recipe_json['ingredients']),\n",
    "        'directions': \", \".join(recipe_json['directions'])\n",
    "    })"
   ],
   "metadata": {
    "collapsed": false,
    "pycharm": {
     "name": "#%%\n"
    }
   }
  },
  {
   "cell_type": "code",
   "execution_count": null,
   "outputs": [],
   "source": [],
   "metadata": {
    "collapsed": false,
    "pycharm": {
     "name": "#%%\n"
    }
   }
  }
 ],
 "metadata": {
  "kernelspec": {
   "display_name": "Python 3",
   "language": "python",
   "name": "python3"
  },
  "language_info": {
   "codemirror_mode": {
    "name": "ipython",
    "version": 2
   },
   "file_extension": ".py",
   "mimetype": "text/x-python",
   "name": "python",
   "nbconvert_exporter": "python",
   "pygments_lexer": "ipython2",
   "version": "2.7.6"
  }
 },
 "nbformat": 4,
 "nbformat_minor": 0
}