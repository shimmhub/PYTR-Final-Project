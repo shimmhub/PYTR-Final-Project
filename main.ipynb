{
 "cells": [
  {
   "cell_type": "markdown",
   "source": [
    "# Cooking Assistant\n",
    "\n",
    "## openai\n",
    "The library that will make it easier for us to connect directly to the openAI API.\n",
    "\n",
    "## os and dotenv\n",
    "The libraries that allow me to upload this directly to github without exposing my API credentials."
   ],
   "metadata": {
    "collapsed": false,
    "pycharm": {
     "name": "#%% md\n"
    }
   }
  },
  {
   "cell_type": "code",
   "execution_count": 1,
   "outputs": [],
   "source": [
    "import csv\n",
    "import os\n",
    "import openai\n",
    "from dotenv import load_dotenv"
   ],
   "metadata": {
    "collapsed": false,
    "pycharm": {
     "name": "#%%\n"
    }
   }
  },
  {
   "cell_type": "code",
   "execution_count": 2,
   "outputs": [
    {
     "data": {
      "text/plain": "True"
     },
     "execution_count": 2,
     "metadata": {},
     "output_type": "execute_result"
    }
   ],
   "source": [
    "load_dotenv()"
   ],
   "metadata": {
    "collapsed": false,
    "pycharm": {
     "name": "#%%\n"
    }
   }
  },
  {
   "cell_type": "markdown",
   "source": [
    "## Connecting to the openAI API"
   ],
   "metadata": {
    "collapsed": false,
    "pycharm": {
     "name": "#%% md\n"
    }
   }
  },
  {
   "cell_type": "code",
   "execution_count": 3,
   "outputs": [],
   "source": [
    "openai.api_key = os.getenv(\"OPEN_API_KEY\")"
   ],
   "metadata": {
    "collapsed": false,
    "pycharm": {
     "name": "#%%\n"
    }
   }
  },
  {
   "cell_type": "markdown",
   "source": [
    "## generate_recipe\n",
    "This function formats the prompt that is sent to GPT3 (text-davinci-003). It takes variables that will eventually be available inputs on a webpage."
   ],
   "metadata": {
    "collapsed": false,
    "pycharm": {
     "name": "#%% md\n"
    }
   }
  },
  {
   "cell_type": "code",
   "execution_count": 4,
   "outputs": [],
   "source": [
    "def generate_recipe(cooking_skill, place_city, preparation_time, time_of_day):\n",
    "    prompt = f\"Please provide a detailed {time_of_day} cooking recipe with ingredients and step-by-step directions, suitable for someone with {cooking_skill}, originating from {place_city}, and taking {preparation_time} time to prepare and cook. Please also keep it under 10 ingredients. \\nPlease provide this in JSON format with the following variables:\\nname, description, ingredients, directions. Do not return 'difficulty, origin, time'\"\n",
    "\n",
    "    response = openai.Completion.create(\n",
    "        engine='text-davinci-003',\n",
    "        prompt=prompt,\n",
    "        max_tokens=1000,\n",
    "        n=1,\n",
    "        temperature=0,\n",
    "        top_p=0.5,\n",
    "        frequency_penalty=0,\n",
    "        presence_penalty=0\n",
    "    )\n",
    "    # return response.choices[0].text.strip()\n",
    "    return response"
   ],
   "metadata": {
    "collapsed": false,
    "pycharm": {
     "name": "#%%\n"
    }
   }
  },
  {
   "cell_type": "code",
   "execution_count": 61,
   "outputs": [],
   "source": [
    "cooking_skill = input(\"Choose your cooking skill (Beginner/Intermediate/Advanced): \")\n",
    "place_city = input(\"Choose a city or place that you'd like your meal based on: \")\n",
    "preparation_time = input(\"Choose the time it will take to cook (Short/Medium/Long): \")\n",
    "time_of_day = input(\"Choose the time of day you'd like the meal to be based on (Breakfast/Lunch/Dinner): \")"
   ],
   "metadata": {
    "collapsed": false,
    "pycharm": {
     "name": "#%%\n"
    }
   }
  },
  {
   "cell_type": "markdown",
   "source": [
    "## recipe_json\n",
    "Here we will be executing the function by passing our 3 variables into the prompt, which is then sent to openAPI"
   ],
   "metadata": {
    "collapsed": false,
    "pycharm": {
     "name": "#%% md\n"
    }
   }
  },
  {
   "cell_type": "code",
   "execution_count": 62,
   "outputs": [],
   "source": [
    "recipe = generate_recipe(cooking_skill, place_city, preparation_time, time_of_day)"
   ],
   "metadata": {
    "collapsed": false,
    "pycharm": {
     "name": "#%%\n"
    }
   }
  },
  {
   "cell_type": "markdown",
   "source": [
    "## JSON Structure\n",
    "This JSON response will be used to fill in our webpage in an digestible format."
   ],
   "metadata": {
    "collapsed": false,
    "pycharm": {
     "name": "#%% md\n"
    }
   }
  },
  {
   "cell_type": "code",
   "execution_count": 63,
   "outputs": [
    {
     "name": "stdout",
     "output_type": "stream",
     "text": [
      "{\n",
      "  \"choices\": [\n",
      "    {\n",
      "      \"finish_reason\": \"stop\",\n",
      "      \"index\": 0,\n",
      "      \"logprobs\": null,\n",
      "      \"text\": \"\\n\\n{\\n    \\\"name\\\": \\\"Salt Lake City Grilled Cheese\\\",\\n    \\\"description\\\": \\\"A classic grilled cheese sandwich with a Salt Lake City twist!\\\",\\n    \\\"ingredients\\\": [\\n        \\\"2 slices of sourdough bread\\\",\\n        \\\"2 slices of cheddar cheese\\\",\\n        \\\"2 slices of bacon\\\",\\n        \\\"1 tablespoon of butter\\\",\\n        \\\"1 teaspoon of garlic powder\\\"\\n    ],\\n    \\\"directions\\\": [\\n        \\\"1. Preheat a skillet over medium heat.\\\",\\n        \\\"2. Spread butter on one side of each slice of bread.\\\",\\n        \\\"3. Place one slice of bread, butter side down, in the skillet.\\\",\\n        \\\"4. Top with one slice of cheese, bacon, and the other slice of cheese.\\\",\\n        \\\"5. Sprinkle garlic powder over the top of the cheese.\\\",\\n        \\\"6. Place the other slice of bread, butter side up, on top of the cheese.\\\",\\n        \\\"7. Cook for 3-4 minutes, or until the bottom slice of bread is golden brown.\\\",\\n        \\\"8. Flip the sandwich and cook for an additional 3-4 minutes, or until the other side is golden brown.\\\",\\n        \\\"9. Serve and enjoy!\\\"\\n    ]\\n}\"\n",
      "    }\n",
      "  ],\n",
      "  \"created\": 1681356869,\n",
      "  \"id\": \"cmpl-74i17QMKTZaU2KQ06usmbd3hVUPYz\",\n",
      "  \"model\": \"text-davinci-003\",\n",
      "  \"object\": \"text_completion\",\n",
      "  \"usage\": {\n",
      "    \"completion_tokens\": 268,\n",
      "    \"prompt_tokens\": 80,\n",
      "    \"total_tokens\": 348\n",
      "  }\n",
      "}\n"
     ]
    }
   ],
   "source": [
    "print(recipe)"
   ],
   "metadata": {
    "collapsed": false,
    "pycharm": {
     "name": "#%%\n"
    }
   }
  },
  {
   "cell_type": "code",
   "execution_count": 64,
   "outputs": [],
   "source": [
    "strip_recipe = recipe.choices[0].text.strip()"
   ],
   "metadata": {
    "collapsed": false,
    "pycharm": {
     "name": "#%%\n"
    }
   }
  },
  {
   "cell_type": "code",
   "execution_count": 65,
   "outputs": [],
   "source": [
    "import json"
   ],
   "metadata": {
    "collapsed": false,
    "pycharm": {
     "name": "#%%\n"
    }
   }
  },
  {
   "cell_type": "code",
   "execution_count": 66,
   "outputs": [],
   "source": [
    "recipe_json = json.loads(strip_recipe)"
   ],
   "metadata": {
    "collapsed": false,
    "pycharm": {
     "name": "#%%\n"
    }
   }
  },
  {
   "cell_type": "code",
   "execution_count": 69,
   "outputs": [],
   "source": [
    "from supabase import create_client, Client\n",
    "\n",
    "url = os.getenv(\"SUPABASE_URL\")\n",
    "supakey = os.getenv(\"SUPABASE_API_KEY\")\n",
    "supabase = create_client(url, supakey)"
   ],
   "metadata": {
    "collapsed": false,
    "pycharm": {
     "name": "#%%\n"
    }
   }
  },
  {
   "cell_type": "code",
   "execution_count": 70,
   "outputs": [],
   "source": [
    "suparesponse = supabase.table('main').select(\"name\").execute()"
   ],
   "metadata": {
    "collapsed": false,
    "pycharm": {
     "name": "#%%\n"
    }
   }
  },
  {
   "cell_type": "code",
   "execution_count": 71,
   "outputs": [
    {
     "data": {
      "text/plain": "APIResponse(data=[{'name': 'Waco-Style BBQ Chicken Sandwich'}, {'name': 'Czech Potato Salad'}, {'name': 'Czech Potato Salad'}, {'name': 'Miami-Style Grilled Fish Tacos'}, {'name': 'Quebec-Style French Toast'}, {'name': 'Detroit-Style Coney Dogs'}, {'name': 'New Orleans Jambalaya'}, {'name': 'No-Cook Fruit Salad'}], count=None)"
     },
     "execution_count": 71,
     "metadata": {},
     "output_type": "execute_result"
    }
   ],
   "source": [
    "suparesponse"
   ],
   "metadata": {
    "collapsed": false,
    "pycharm": {
     "name": "#%%\n"
    }
   }
  },
  {
   "cell_type": "code",
   "execution_count": 72,
   "outputs": [],
   "source": [
    "data = supabase.auth.sign_in_with_password({\"email\": os.getenv(\"SUPABASE_EMAIL\"), \"password\": os.getenv(\"SUPABASE_LOGIN\")})"
   ],
   "metadata": {
    "collapsed": false,
    "pycharm": {
     "name": "#%%\n"
    }
   }
  },
  {
   "cell_type": "code",
   "execution_count": 73,
   "outputs": [],
   "source": [
    "table = supabase.table('main')"
   ],
   "metadata": {
    "collapsed": false,
    "pycharm": {
     "name": "#%%\n"
    }
   }
  },
  {
   "cell_type": "code",
   "execution_count": 74,
   "outputs": [],
   "source": [
    "insert_query = table.insert({\n",
    "    'name': recipe_json['name'],\n",
    "    'description': recipe_json['description'],\n",
    "    'ingredients': \", \".join(recipe_json['ingredients']),\n",
    "    'directions': \", \".join(recipe_json['directions']),\n",
    "    'cooking_skill': cooking_skill,\n",
    "    'place_city': place_city,\n",
    "    'preparation_time': preparation_time,\n",
    "    'time_of_day': time_of_day\n",
    "})"
   ],
   "metadata": {
    "collapsed": false,
    "pycharm": {
     "name": "#%%\n"
    }
   }
  },
  {
   "cell_type": "code",
   "execution_count": 75,
   "outputs": [],
   "source": [
    "result = insert_query.execute()"
   ],
   "metadata": {
    "collapsed": false,
    "pycharm": {
     "name": "#%%\n"
    }
   }
  },
  {
   "cell_type": "code",
   "execution_count": 76,
   "outputs": [
    {
     "data": {
      "text/plain": "348"
     },
     "execution_count": 76,
     "metadata": {},
     "output_type": "execute_result"
    }
   ],
   "source": [
    "recipe.usage['total_tokens']"
   ],
   "metadata": {
    "collapsed": false,
    "pycharm": {
     "name": "#%%\n"
    }
   }
  },
  {
   "cell_type": "code",
   "execution_count": 105,
   "outputs": [
    {
     "name": "stdout",
     "output_type": "stream",
     "text": [
      "<class 'dict'>\n"
     ]
    },
    {
     "data": {
      "text/plain": "{'id': 20,\n 'created_at': '2023-04-13T03:34:50.676323+00:00',\n 'name': 'Salt Lake City Grilled Cheese',\n 'description': 'A classic grilled cheese sandwich with a Salt Lake City twist!',\n 'ingredients': '2 slices of sourdough bread, 2 slices of cheddar cheese, 2 slices of bacon, 1 tablespoon of butter, 1 teaspoon of garlic powder',\n 'directions': '1. Preheat a skillet over medium heat., 2. Spread butter on one side of each slice of bread., 3. Place one slice of bread, butter side down, in the skillet., 4. Top with one slice of cheese, bacon, and the other slice of cheese., 5. Sprinkle garlic powder over the top of the cheese., 6. Place the other slice of bread, butter side up, on top of the cheese., 7. Cook for 3-4 minutes, or until the bottom slice of bread is golden brown., 8. Flip the sandwich and cook for an additional 3-4 minutes, or until the other side is golden brown., 9. Serve and enjoy!',\n 'cooking_skill': 'Beginner',\n 'place_city': 'Salt Lake City',\n 'preparation_time': 'Medium',\n 'time_of_day': 'Dinner'}"
     },
     "execution_count": 105,
     "metadata": {},
     "output_type": "execute_result"
    }
   ],
   "source": [
    "test = supabase.table('main').select('*').order('id',desc=True).limit(1).execute()\n",
    "test = test.data[0]\n",
    "print(type(test))\n",
    "test"
   ],
   "metadata": {
    "collapsed": false,
    "pycharm": {
     "name": "#%%\n"
    }
   }
  },
  {
   "cell_type": "code",
   "execution_count": 115,
   "outputs": [
    {
     "data": {
      "text/plain": "'A classic grilled cheese sandwich with a Salt Lake City twist!'"
     },
     "execution_count": 115,
     "metadata": {},
     "output_type": "execute_result"
    }
   ],
   "source": [
    "test['description']"
   ],
   "metadata": {
    "collapsed": false,
    "pycharm": {
     "name": "#%%\n"
    }
   }
  },
  {
   "cell_type": "code",
   "execution_count": 109,
   "outputs": [
    {
     "name": "stdout",
     "output_type": "stream",
     "text": [
      "2 slices of sourdough bread\n",
      "2 slices of cheddar cheese\n",
      "2 slices of bacon\n",
      "1 tablespoon of butter\n",
      "1 teaspoon of garlic powder\n"
     ]
    }
   ],
   "source": [
    "ingredients_list = test['ingredients'].split(', ')\n",
    "\n",
    "for ingredient in ingredients_list:\n",
    "    print(ingredient)"
   ],
   "metadata": {
    "collapsed": false,
    "pycharm": {
     "name": "#%%\n"
    }
   }
  },
  {
   "cell_type": "code",
   "execution_count": null,
   "outputs": [],
   "source": [],
   "metadata": {
    "collapsed": false,
    "pycharm": {
     "name": "#%%\n"
    }
   }
  }
 ],
 "metadata": {
  "kernelspec": {
   "display_name": "Python 3",
   "language": "python",
   "name": "python3"
  },
  "language_info": {
   "codemirror_mode": {
    "name": "ipython",
    "version": 2
   },
   "file_extension": ".py",
   "mimetype": "text/x-python",
   "name": "python",
   "nbconvert_exporter": "python",
   "pygments_lexer": "ipython2",
   "version": "2.7.6"
  }
 },
 "nbformat": 4,
 "nbformat_minor": 0
}