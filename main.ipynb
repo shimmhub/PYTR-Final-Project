{
 "cells": [
  {
   "cell_type": "code",
   "execution_count": 1,
   "metadata": {
    "collapsed": true,
    "pycharm": {
     "name": "#%%\n"
    }
   },
   "outputs": [],
   "source": [
    "import os\n",
    "import openai"
   ]
  },
  {
   "cell_type": "code",
   "execution_count": 6,
   "outputs": [],
   "source": [
    "from dotenv import load_dotenv"
   ],
   "metadata": {
    "collapsed": false,
    "pycharm": {
     "name": "#%%\n"
    }
   }
  },
  {
   "cell_type": "code",
   "execution_count": null,
   "outputs": [],
   "source": [
    "load_dotenv()"
   ],
   "metadata": {
    "collapsed": false,
    "pycharm": {
     "name": "#%%\n",
     "is_executing": true
    }
   }
  },
  {
   "cell_type": "code",
   "execution_count": 13,
   "outputs": [],
   "source": [
    "openai.api_key = os.getenv(\"OPEN_API_KEY\")"
   ],
   "metadata": {
    "collapsed": false,
    "pycharm": {
     "name": "#%%\n"
    }
   }
  },
  {
   "cell_type": "code",
   "execution_count": 14,
   "outputs": [],
   "source": [
    "def generate_recipe(cooking_skill, place_city, preparation_time):\n",
    "    prompt = f\"Please provide a detailed cooking recipe with ingredients and step-by-step directions, suitable for someone with {cooking_skill}, originating from {place_city}, and taking {preparation_time} time to prepare and cook.\\nPlease provide this in JSON format with the following variables:\\nname, description, ingredients, directions\"\n",
    "\n",
    "    response = openai.Completion.create(\n",
    "        engine='text-davinci-003',\n",
    "        prompt=prompt,\n",
    "        max_tokens=1000,\n",
    "        n=1,\n",
    "        temperature=0,\n",
    "        top_p=0.5,\n",
    "        frequency_penalty=0,\n",
    "        presence_penalty=0\n",
    "    )\n",
    "    return response.choices[0].text.strip()"
   ],
   "metadata": {
    "collapsed": false,
    "pycharm": {
     "name": "#%%\n"
    }
   }
  },
  {
   "cell_type": "code",
   "execution_count": 10,
   "outputs": [],
   "source": [
    "cooking_skill = \"advanced\"\n",
    "place_city = \"Dallas\"\n",
    "preparation_time = \"long\""
   ],
   "metadata": {
    "collapsed": false,
    "pycharm": {
     "name": "#%%\n"
    }
   }
  },
  {
   "cell_type": "code",
   "execution_count": 11,
   "outputs": [],
   "source": [
    "recipe_json = generate_recipe(cooking_skill, place_city, preparation_time)"
   ],
   "metadata": {
    "collapsed": false,
    "pycharm": {
     "name": "#%%\n"
    }
   }
  },
  {
   "cell_type": "code",
   "execution_count": 12,
   "outputs": [
    {
     "name": "stdout",
     "output_type": "stream",
     "text": [
      "{\n",
      "  \"name\": \"Dallas-Style BBQ Brisket\",\n",
      "  \"description\": \"This recipe is a classic Dallas-style BBQ brisket that takes a long time to prepare and cook, but is worth the wait!\",\n",
      "  \"ingredients\": [\n",
      "    \"5-7 lb brisket\",\n",
      "    \"1/4 cup of your favorite BBQ rub\",\n",
      "    \"1/4 cup of your favorite BBQ sauce\",\n",
      "    \"1/4 cup of beef broth\",\n",
      "    \"1/4 cup of apple cider vinegar\",\n",
      "    \"1/4 cup of Worcestershire sauce\",\n",
      "    \"1/4 cup of brown sugar\",\n",
      "    \"1/4 cup of honey\",\n",
      "    \"1/4 cup of molasses\",\n",
      "    \"1/4 cup of tomato paste\",\n",
      "    \"1/4 cup of garlic powder\",\n",
      "    \"1/4 cup of onion powder\",\n",
      "    \"1/4 cup of chili powder\",\n",
      "    \"1/4 cup of smoked paprika\",\n",
      "    \"1/4 cup of cumin\",\n",
      "    \"1/4 cup of black pepper\",\n",
      "    \"1/4 cup of cayenne pepper\"\n",
      "  ],\n",
      "  \"directions\": [\n",
      "    \"1. Preheat your oven to 250 degrees F.\",\n",
      "    \"2. Trim the fat from the brisket and rub the BBQ rub all over the brisket.\",\n",
      "    \"3. Place the brisket in a roasting pan and cover with aluminum foil.\",\n",
      "    \"4. Bake in the preheated oven for 3-4 hours, or until the internal temperature of the brisket reaches 165 degrees F.\",\n",
      "    \"5. While the brisket is baking, mix together the BBQ sauce, beef broth, apple cider vinegar, Worcestershire sauce, brown sugar, honey, molasses, tomato paste, garlic powder, onion powder, chili powder, smoked paprika, cumin, black pepper, and cayenne pepper in a medium-sized bowl.\",\n",
      "    \"6. Once the brisket is done baking, remove it from the oven and brush the BBQ sauce mixture all over the brisket.\",\n",
      "    \"7. Place the brisket back in the roasting pan and bake in the preheated oven for an additional 1-2 hours, or until the internal temperature of the brisket reaches 195 degrees F.\",\n",
      "    \"8. Remove the brisket from the oven and let it rest for 10-15 minutes before slicing and serving.\"\n",
      "  ]\n",
      "}\n"
     ]
    }
   ],
   "source": [
    "print(recipe_json)"
   ],
   "metadata": {
    "collapsed": false,
    "pycharm": {
     "name": "#%%\n"
    }
   }
  }
 ],
 "metadata": {
  "kernelspec": {
   "display_name": "Python 3",
   "language": "python",
   "name": "python3"
  },
  "language_info": {
   "codemirror_mode": {
    "name": "ipython",
    "version": 2
   },
   "file_extension": ".py",
   "mimetype": "text/x-python",
   "name": "python",
   "nbconvert_exporter": "python",
   "pygments_lexer": "ipython2",
   "version": "2.7.6"
  }
 },
 "nbformat": 4,
 "nbformat_minor": 0
}